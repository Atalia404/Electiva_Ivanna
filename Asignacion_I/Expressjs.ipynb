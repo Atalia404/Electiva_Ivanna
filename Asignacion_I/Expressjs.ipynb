{
 "cells": [
  {
   "cell_type": "markdown",
   "id": "306466bb",
   "metadata": {},
   "source": [
    "# Express.js\n",
    "Express.js es como un \"kit de herramientas\" y un \"plano\" para construir la parte de atrás de una página web o aplicación.                       \n",
    "En términos más técnicos, Express.js es un framework (se pronuncia \"fréim-uork\") de Node.js.\n"
   ]
  },
  {
   "cell_type": "markdown",
   "id": "d6532db6",
   "metadata": {
    "vscode": {
     "languageId": "plaintext"
    }
   },
   "source": [
    "### Node.js                       \n",
    "Piensa en Node.js como el \"motor\" que permite que JavaScript (el lenguaje de programación que se usa para hacer las cosas interactivas en las páginas web) funcione fuera del navegador. Es decir, con Node.js puedes usar JavaScript para construir servidores y otras cosas que no se ven directamente en la página.\n",
    "\n",
    "### Framework\n",
    "Un framework es como una plantilla o un conjunto de reglas y herramientas predefinidas que te facilitan mucho la vida al programar. En lugar de empezar desde cero cada vez, el framework te da una estructura base y funciones ya hechas para que tú solo tengas que enfocarte en la parte específica que quieres construir."
   ]
  },
  {
   "cell_type": "markdown",
   "id": "3009979d",
   "metadata": {},
   "source": [
    "### ¿Para que sirve? \n",
    "Principalmente, Express.js se usa para construir lo que llamamos \"servidores web\" o \"APIs\".\n",
    "\n",
    "* ### Servidor web\n",
    "Es la computadora que almacena toda la información de una página web (imágenes, textos, etc.) y la envía a tu navegador cuando la solicitas. Cuando escribes \"https://www.google.com/search?q=google.com\" en tu navegador, tu navegador le está pidiendo al servidor de Google que le envíe la página, y ese servidor probablemente usa algo como Express.js o un framework similar para manejar esa petición.\n",
    "\n",
    "* ### API (Application Programming Interface) \n",
    "Entrega información                                      \n",
    "Piensa en una API como un \"camarero\" entre dos aplicaciones. Si tienes una aplicación móvil de un restaurante y quieres ver el menú, la aplicación móvil le \"pide\" el menú a la API del restaurante, y la API le \"devuelve\" el menú. Express.js es muy popular para construir estas APIs."
   ]
  },
  {
   "cell_type": "markdown",
   "id": "8f459cc7",
   "metadata": {},
   "source": [
    "### Ejemplo sencillo\n",
    "\n",
    "* Quieres crear una página web donde los usuarios puedan ver una lista de productos.            \n",
    "* El usuario abre su navegador y va a misproductos.com.         \n",
    "* El navegador le envía una petición al servidor web.           \n",
    "* El servidor web (construido con Express.js) recibe esa petición.          \n",
    "* Express.js sabe que cuando alguien pide /productos, debe ir a la base de datos, obtener la lista de productos y enviársela de vuelta al navegador.            \n",
    "* El navegador recibe la lista y la muestra al usuario.         "
   ]
  }
 ],
 "metadata": {
  "language_info": {
   "name": "python"
  }
 },
 "nbformat": 4,
 "nbformat_minor": 5
}
