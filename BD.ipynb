{
 "cells": [
  {
   "cell_type": "markdown",
   "id": "e7fbe211",
   "metadata": {},
   "source": [
    "# SQL \n",
    "Es el lenguaje de BD y las plataformas como MySQL es para manejar el lenguaje de BD\n",
    "\n",
    "- Tablas >< Columnas >< Filas \n",
    "Tablas: Hojas de calculos individuales \n",
    "Filas: Registros \n",
    "\n",
    "Base de Datos relacionales: \n",
    "MySQL, PortgreSQL, Oracle\n",
    "\n",
    "Base de Datos NO relacionales:\n",
    "MongoDB, Cassandra, Redis, Json \n"
   ]
  }
 ],
 "metadata": {
  "language_info": {
   "name": "python"
  }
 },
 "nbformat": 4,
 "nbformat_minor": 5
}
