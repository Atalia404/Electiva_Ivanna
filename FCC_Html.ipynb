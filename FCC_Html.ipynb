{
 "cells": [
  {
   "cell_type": "markdown",
   "id": "35e3604e",
   "metadata": {},
   "source": [
    "### elementos o tags / etiquetas\n",
    "Es un componente básico de un archivo HTML, se podria pensar en ellos vomo ladrillos, con ellos definimos su estructura.\n"
   ]
  },
  {
   "cell_type": "code",
   "execution_count": null,
   "id": "bc1316ab",
   "metadata": {
    "vscode": {
     "languageId": "html"
    }
   },
   "outputs": [],
   "source": [
    "<html> </html> - <head> </head> - <body> </body> Ejm: <tipo_de_elemnto>\n",
    "<h1> !Hola, mundo!</h1>"
   ]
  },
  {
   "cell_type": "markdown",
   "id": "96daa964",
   "metadata": {},
   "source": [
    ">   Algunos elementos no necesitan etiquetas de cierre - Self Closing Tags   \n",
    "Ejm: <img> es opcional cerrarlo."
   ]
  },
  {
   "cell_type": "markdown",
   "id": "201295be",
   "metadata": {},
   "source": [
    "### Identacion\n",
    "Identacion sugerida son 2 espacios, puede ser cambiada en el mismo vsc en el borde inferior izquierdo space: 4 > 2 ... Mejor 2 que 4 por tantos niveles de idetancion.\n",
    "> Para mover todo un bloque de código se puede usar el atajo: \"CTRL\" + \"[\" o \"]\" o TAB para la derecha y Shift + TAB para la izquierda. \n",
    "\n",
    "### Atributos \n",
    "Especifica algo de algún elemento \n",
    "ejemplo: lang = language = <html lang=\"es\"> // Lenguaje de la pagina: es español, en ingles...\n",
    "\n",
    "### Justificación del texto en VSC\n",
    "ALT + Z "
   ]
  },
  {
   "cell_type": "markdown",
   "id": "72e2eec7",
   "metadata": {},
   "source": [
    "## Elemento <Main> \n",
    "<main> Le dirá al browser donde esta ubicado el contenido principal de la página web. "
   ]
  },
  {
   "cell_type": "code",
   "execution_count": null,
   "id": "30f0ed5f",
   "metadata": {
    "vscode": {
     "languageId": "html"
    }
   },
   "outputs": [],
   "source": [
    "!DOCTYPE html>\n",
    "<html lang=\"es\">\n",
    "<body>\n",
    "\t<h2>App De Gatos</h2>\n",
    "\t<main></main>\n",
    "\t<h3>Imagenes de Gatos</h3>\n",
    "\n",
    "\t<p>Esta es una aplicación que muestra imágenes de gatos al azar.</p> \n",
    "\n",
    "\t<p>Haz clic en el botón para ver una imagen de un gato.</p>\n",
    "</body>\n",
    "\t\t</html>\n",
    "\t</body>"
   ]
  },
  {
   "cell_type": "markdown",
   "id": "58977c95",
   "metadata": {},
   "source": [
    "## IMAGENES\n",
    "Donde esta alojado, descripcion alternativa si no se carga,\n",
    "<img src=\"https://bit.ly/fcc-relaxing-cat\">"
   ]
  },
  {
   "cell_type": "markdown",
   "id": "f4dde621",
   "metadata": {},
   "source": [
    "## Enlaces\n",
    "Para que abra en otra pestaña se usa el atributo *target*.\t\t\t\t\t\t\n",
    "\n",
    "Se recomienda el uso de la etiqueta <*ref =\"noopener noreferrer\"*> para evitar que al abrir una nueva pestaña, se redirija a otra página que no sea la indicada anteriormente. \n"
   ]
  },
  {
   "cell_type": "code",
   "execution_count": null,
   "id": "aa2fcece",
   "metadata": {
    "vscode": {
     "languageId": "html"
    }
   },
   "outputs": [],
   "source": [
    "\n",
    "<p>Haz click aquí para ver mas <a href=\"https://www.google.com/\" target=\"_blank\" rel=\"noopener noreferrer\">imagenes de gatos.</a></p>"
   ]
  },
  {
   "cell_type": "markdown",
   "id": "5b23cf68",
   "metadata": {},
   "source": [
    "## Enlaces a Secciones Internas\n",
    "Para crear indices: \n",
    "Se colocan los nombres de los indices con la etiqueta de enlaces: \n",
    "<a href=\"#\">Parrafo 1</a>\n",
    "Y en donde se encuentra el titulo o contenido que a donde se quiere redirigir se le agrega un identificador como *id* \n",
    "\n",
    "Los enlaces muertos solo le agregas \"#\" donde deberia ir la dirección, solo es usado para pruebas o ejemplos.\n"
   ]
  },
  {
   "cell_type": "code",
   "execution_count": null,
   "id": "8eb675a7",
   "metadata": {
    "vscode": {
     "languageId": "html"
    }
   },
   "outputs": [],
   "source": [
    "indice\n",
    "<a href=\"#parrafo1\">Parrafo 1</a>\n",
    "titulo a reedirigir\n",
    "<h3 id=\"parrafo1\">Parrafo 1</h3>"
   ]
  },
  {
   "cell_type": "markdown",
   "id": "890e54f9",
   "metadata": {},
   "source": [
    "## Enlaces con imágenes\n",
    "Solo debes \"arropar\" la etiqueta de imagen con una de enlace: "
   ]
  },
  {
   "cell_type": "code",
   "execution_count": null,
   "id": "6678291b",
   "metadata": {
    "vscode": {
     "languageId": "html"
    }
   },
   "outputs": [],
   "source": [
    "<a href=\"https://www.google.com/\"><img src=\"https://bit.ly/fcc-relaxing-cat\"\n",
    "\t\talt=\"Lindo gato naranja con ojos verdes acostado sobre su espalda.\"></a>"
   ]
  },
  {
   "cell_type": "markdown",
   "id": "e67e4b34",
   "metadata": {},
   "source": [
    "## Lista NO ordenada\n",
    "Sin numeraciones, visualizadas con viñetas"
   ]
  },
  {
   "cell_type": "code",
   "execution_count": null,
   "id": "ea91ad14",
   "metadata": {
    "vscode": {
     "languageId": "html"
    }
   },
   "outputs": [],
   "source": [
    "<ul>\n",
    "\t<li>Comer</li>\n",
    "\t<li>Jugar</li>\n",
    "\t<li>Dormir</li>\n",
    "</ul>"
   ]
  },
  {
   "cell_type": "markdown",
   "id": "d19f1d77",
   "metadata": {},
   "source": [
    "## Lista Ordenada\n",
    "Listas ennumeradas"
   ]
  },
  {
   "cell_type": "code",
   "execution_count": null,
   "id": "54a2974d",
   "metadata": {
    "vscode": {
     "languageId": "html"
    }
   },
   "outputs": [],
   "source": [
    "<ol>\n",
    "\t<li>Perros</li>\n",
    "\t<li>Agua</li>\n",
    "\t<li>Que los acaricien cuando no quieren</li>\n",
    "</ol>"
   ]
  },
  {
   "cell_type": "markdown",
   "id": "2fc6d17a",
   "metadata": {},
   "source": [
    "## Etiquetas importantes:\n",
    "- strong> /strong>:\t\t\t\t\t\t\n",
    "Indica que el texto es importante y se convierte en negrita también, muy util en las busquedas SEO. \n",
    "- \"em> /em>\": \t\t\t\t\t\t\t\n",
    "Enfatizar parte del contenido, se vuelve cursivo el texto.\n",
    "- \"s> /s>\": \t\t\t\t\t\t\t\n",
    "Tacha parte del texto. \n",
    "- \"hr>\":\t\t\t\t\n",
    "Linea horizontal\n"
   ]
  },
  {
   "cell_type": "markdown",
   "id": "03a86209",
   "metadata": {},
   "source": [
    "## Formularios\n",
    "Etiqueta form> /form>\n",
    "Agregar información que se enviará a un servidor:\n",
    "ttipo de dato y el placeholder es el texto que aparecerá en el textbox. y el \"required\" es para saber que el campo es requerido de forma obligatoria. \n"
   ]
  },
  {
   "cell_type": "code",
   "execution_count": null,
   "id": "a0c9c9da",
   "metadata": {
    "vscode": {
     "languageId": "html"
    }
   },
   "outputs": [],
   "source": [
    "<form action=\"/enviar-respuesta\">\n",
    "\t<input type=\"text\" placeholder=\"Nombre\" required>\n",
    "\t<button type=\"submit\">Enviar</button>\n",
    "</form>"
   ]
  },
  {
   "cell_type": "markdown",
   "id": "1d43bd2a",
   "metadata": {},
   "source": [
    "# Nuevos Elementos Inputs \n",
    "## Radio Button\n",
    "*label* es usado para que cuando le de click al texto se seleccione.\n",
    "*name* cuando todos los botones de tipo radio tienen el mismo _\"name\" se toma como un grupo, asi solo una opcion puede estar marcado una vez\n",
    "\n",
    "\n",
    "## SALTO DE LINEA \n",
    "*<BR*\n",
    "\n"
   ]
  },
  {
   "cell_type": "code",
   "execution_count": null,
   "id": "4fa3d3cf",
   "metadata": {
    "vscode": {
     "languageId": "html"
    }
   },
   "outputs": [],
   "source": [
    "<form action=\"/enviar-respuesta\">\n",
    "\t<label><input type=\"radio\" name=\"opcion1\" value=\"opcion1\"> Opción 1 </label>\n",
    "\t<br>\n",
    "\t<label><input type=\"radio\" name=\"opcion2\" value=\"opcion2\"> Opción 2 </label>\n",
    "\t<button type=\"submit\">Enviar</button>\n",
    "</form>"
   ]
  },
  {
   "cell_type": "markdown",
   "id": "3574a064",
   "metadata": {},
   "source": [
    "## CheckBox \n",
    "Casillas de verificación \n"
   ]
  },
  {
   "cell_type": "markdown",
   "id": "58939ac8",
   "metadata": {},
   "source": [
    "Si el usuario marca \"Leer\" y \"Viajar\", el servidor podría recibir algo como hobbies=leer,viajar.\n",
    "\n",
    "En resumen, value sirve para identificar y dar un valor específico a la opción que el usuario elige. Sin él, el servidor no sabría qué opción se ha seleccionad\n",
    "\n",
    "Con el atributo *Checked* dentro de los <> del input, se marcaran casillas predeterminadas"
   ]
  },
  {
   "cell_type": "code",
   "execution_count": null,
   "id": "57291f4f",
   "metadata": {
    "vscode": {
     "languageId": "html"
    }
   },
   "outputs": [],
   "source": [
    "<label><input type=\"checkbox\" name=\"hobbies\" value=\"leer\" checked> Leer </label>\n",
    "<label><input type=\"checkbox\" name=\"hobbies\" value=\"viajar\"> Viajar </label>\n",
    "<label><input type=\"checkbox\" name=\"hobbies\" value=\"cocinar\"> Cocinar </label>"
   ]
  },
  {
   "cell_type": "markdown",
   "id": "cd3704a3",
   "metadata": {},
   "source": [
    "# D I V \n",
    "Es un contenedor generico, sirven para hacer estructuras mas complejas en las paginas web apoyandose con CSS.\n",
    "Se encuentra invisible sin las modificaciones con CSS como un color de fondo. "
   ]
  },
  {
   "cell_type": "code",
   "execution_count": null,
   "id": "c0b088c6",
   "metadata": {
    "vscode": {
     "languageId": "html"
    }
   },
   "outputs": [],
   "source": [
    "<div>\n",
    "\t<p> Cosas que los gatos aman: </p>\n",
    "\t<ul>\n",
    "\t\t<li>Comer</li>\n",
    "\t\t<li>Jugar</li>\n",
    "\t\t<li>Dormir</li>\n",
    "\t</ul>\n",
    "\t<img src=\"lasana.jpg\" alt=\"Lasaña\" width=\"300\" height=\"280\">\n",
    "\n",
    "\t<p> Cosas que los gatos odian: </p>\n",
    "\t<ol>\n",
    "\t\t<li>Perros</li>\n",
    "\t\t<li>Agua</li>\n",
    "\t\t<li>Que los acaricien cuando no quieren</li>\n",
    "\t</ol>\n",
    "</div>"
   ]
  },
  {
   "cell_type": "markdown",
   "id": "37f3a9a8",
   "metadata": {},
   "source": [
    "### HEAD \n",
    "Contiene los metadatos, contiene elementos que el usuario no ve pero que son esenciales "
   ]
  },
  {
   "cell_type": "code",
   "execution_count": null,
   "id": "b83f6cf5",
   "metadata": {
    "vscode": {
     "languageId": "html"
    }
   },
   "outputs": [],
   "source": [
    "<header>\n",
    "\t <title>\tGatitos </title> <!-- Usado para el SEO.  -->\n",
    "</header>"
   ]
  },
  {
   "cell_type": "markdown",
   "id": "d61a3b04",
   "metadata": {
    "vscode": {
     "languageId": "html"
    }
   },
   "source": [
    "### Pie de Pagina \n",
    "footer \n",
    "etique tara que el texto sea mas pequeño: small>"
   ]
  },
  {
   "cell_type": "code",
   "execution_count": null,
   "id": "7f21263a",
   "metadata": {
    "vscode": {
     "languageId": "html"
    }
   },
   "outputs": [],
   "source": [
    "<footer>\n",
    "\t<p><small></small>&copy; 2023 AppDeGatitos. Todos los derechos reservados. <a href=\"https://www.google.com\"> Google.com </a></p></small>\n",
    "</footer>"
   ]
  }
 ],
 "metadata": {
  "language_info": {
   "name": "python"
  }
 },
 "nbformat": 4,
 "nbformat_minor": 5
}
