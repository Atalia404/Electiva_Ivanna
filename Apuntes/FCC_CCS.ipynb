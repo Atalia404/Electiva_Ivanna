{
 "cells": [
  {
   "cell_type": "markdown",
   "id": "1ce4f07e",
   "metadata": {},
   "source": [
    "# CCS - Cascading Style Sheets"
   ]
  },
  {
   "cell_type": "markdown",
   "id": "890e1017",
   "metadata": {},
   "source": [
    "Es un lenguaje basado en reglas, esas reglas determinaran el estilo que se aplicará a un elemento o a un grupo de elementos "
   ]
  },
  {
   "cell_type": "markdown",
   "id": "0f224318",
   "metadata": {},
   "source": [
    "Puede ser usado de 3 formas: \n",
    "- Estilos en Línea \n",
    "- Etiqueta Styla \n",
    "- Archivo .css\n",
    "\n",
    "### Estilos en Línea\n",
    "El estilo se añade directamente a la etiqueta de apertura del elemento HTML"
   ]
  },
  {
   "cell_type": "code",
   "execution_count": null,
   "id": "87756727",
   "metadata": {
    "vscode": {
     "languageId": "html"
    }
   },
   "outputs": [],
   "source": [
    "<h2 style=\"color: blue\"> AppDeGatos</h2>"
   ]
  },
  {
   "cell_type": "markdown",
   "id": "b2c83b5c",
   "metadata": {},
   "source": [
    "### El Elemento o Etiqueta *STYLE*\n",
    "\n",
    "Añadimos el elemento *style* en el *head* para describir el estilo."
   ]
  },
  {
   "cell_type": "code",
   "execution_count": null,
   "id": "7f29f44a",
   "metadata": {
    "vscode": {
     "languageId": "html"
    }
   },
   "outputs": [],
   "source": [
    "<head> \n",
    "\t<style>\n",
    "\t\t h2 { /*todos los h2 tendrán este estilo } */\n",
    "\t\t\tcolor: blue;\n",
    "\t\t}\n",
    "\t</style>\n",
    "</head>"
   ]
  },
  {
   "cell_type": "markdown",
   "id": "b8b37e78",
   "metadata": {},
   "source": [
    "### Archivo .CSS\n",
    "Creamos un archivo de tipo .css para definir el estilo de la página. Vinculando el archivo .css al .html "
   ]
  },
  {
   "cell_type": "code",
   "execution_count": null,
   "id": "79513daf",
   "metadata": {
    "vscode": {
     "languageId": "html"
    }
   },
   "outputs": [],
   "source": [
    "h2 {\n",
    "color: blue;\n",
    "}\n",
    "\n",
    "h3 {\n",
    "color: green;\n",
    "}\n",
    "\n",
    "p {\n",
    "color: purple\n",
    "}"
   ]
  },
  {
   "cell_type": "markdown",
   "id": "76f45418",
   "metadata": {},
   "source": [
    "## Selectores de CSS\n",
    "Ellos definen sobre qué elementos se aplicara un conjunto de reglas de CSS. \n",
    "\n",
    "- #Selector de tipo \n",
    "Selecciona todos los elementos que coinciden con el nombre del elemento especificado \n",
    "Sintaxis: eltname \n",
    "Ejm: Si escribimos *input*, se aplicara a cualquier elemento *input*\n",
    "- Ejemplo: \t\t\t\t\t\t\t\n",
    "h2 {\t\t\t\t\t\t\t\t\t\n",
    "color: blue;\t\t\t\t\t\n",
    "}\t\t\t\t\t\n",
    "Todos los h2 seran azules \t\t\t\t\t\n",
    "\n",
    "- #Selector de clase\n",
    "Selecciona todos los elementos que tienen el atributo de class especificado. \n",
    "Sintaxis: .classname \n",
    "Ejemplo: .index seleccionará cualquier elemento que tenga la clase *index*.\n",
    "\n",
    "Se le agrega el atributo \"class=\"#-#\"\" a un elemento o etiqueta en HTML y para llamarlo en CSS se coloca un punto y el nombre que se le dió a la clase:\n",
    "HTML \n",
    "\t<ul class=\"lista-de-gatos\">\n",
    "\t\t<li>Comer</li>\n",
    "\t\t<li>Jugar</li>\n",
    "\t\t<li>Dormir</li>\n",
    "\t</ul>\n",
    "\n",
    "CSS\n",
    "\n",
    ".lista-de-gatos {\n",
    "    color: chocolate;\n",
    "}\n",
    "\n",
    "\n",
    "- #Selector de ID\n",
    "Selecciona un elemento basandose en el valor de su atributo id. Solo puede haber un elemento con un determinado ID dentro de un documento. \n",
    "Sintaxis: #idname \n",
    "Ejemplo #toc se aplicará a cualquier elemento que tenga el ID \"toc\". \n",
    "colocar una clase en un elemento de HTML y para usarlo en CSS, de debe colocar un # antes del nombre de la clase\n",
    "#titulo-app-gatos{\n",
    "\tfont-siza: 30px;\n",
    "\tcolor:green;\n",
    "}\n",
    "\n",
    "- #Selector Universal \n",
    "*Selecciona a todos los elementos*. Opcionalmente, puede estar restringido a un espacio de nombre especifico o a todos los espacios de nombres. \n",
    "Sintaxis: * ns|* *|*\n",
    "Ejemplo: \"*\" se aplica a todos los elementos del documentos \n",
    "\n",
    "- #Selector de atributo \n",
    "Selecciona elementos basándose en el valor de un determinado atributo. \n",
    "Sintaxis: [attr] [attr=value]...\n",
    "Ejemplo: [autoplay] seleccionará a todos los elementos que tengan el atributo \"autoplay\" establecido (a cualquier valor)."
   ]
  },
  {
   "cell_type": "markdown",
   "id": "0832a6bc",
   "metadata": {},
   "source": [
    "### Tamaño de la letra \n",
    "propiedad en css:\n",
    "*font-size*\t\t\t\t\t\t\t\n",
    "Cambio de la letra, con un valor de *px*\n",
    "\n",
    "### Tipo de letras - Fuentes\n",
    "*font-family* + valor \n",
    "valor:\n",
    "Nombres de familia:Times, Helvetica, \"Times New Roman\"...\n",
    "> La fuentes con espacios se deben colocar entre comillas. \n",
    "genericos: serif, sans-serif, cursive, fantasy, monospace... deben ser los ultimos de la lista. \n",
    "### Google Fonts\n",
    "Se puede usar el link en el elemento *head* del HTML y luego colocar el link de \"CSS rules to specify families\" que aparece en el Google Fonts en el archivo CSS con el elemento que se desea cambiar. \n",
    "\n",
    "\n",
    "\n",
    "\n",
    "\n",
    "\n"
   ]
  },
  {
   "cell_type": "markdown",
   "id": "8f1c0c2a",
   "metadata": {},
   "source": [
    "### Imagenes \n",
    "*width* ancho\n",
    "*border-width* ancho del borde\n",
    "*border-color* color del borde\n",
    "*border-style* estilo del borde: none es ninguno, solid es solido, dotted es punteado, dashed es varias lineas, double es doble borde, groove es surco interno, ridge, inset, outset, se puede usar dos valores, el primero para arriba y abajo, y el segundo derecha e izquierda, se puede usar hasta 4 en orden de las agujas del reloj. \n",
    "*border-radius* bordes redondeados, el valor puede ser en px o en %- generalmente 50% para que sean redondodos.\n"
   ]
  },
  {
   "cell_type": "markdown",
   "id": "984c8b07",
   "metadata": {},
   "source": [
    "### Padding\n",
    "Es el espacio del borde de un elemento de htlm y su contenido, es decir si esta contenido en un div es el espacio que hay del borde de la caja del div al elemento que lo contiene. \n",
    "Para especificar:padding-top o bottom o right o letf.\n",
    "o escribirlo lineal con las manecillas del reloj empezando por el top.\n",
    "padding: 20xp 10px 15px 23px.\n"
   ]
  },
  {
   "cell_type": "markdown",
   "id": "e37e5339",
   "metadata": {},
   "source": [
    "### Margin  \n",
    "Separación de la separación de los elementos de la página. \n",
    "Se usan las mismas propiedades del padding pero con *margin*, margin top, right, bottom, left."
   ]
  },
  {
   "cell_type": "markdown",
   "id": "cae94c4b",
   "metadata": {},
   "source": [
    "### Selectores de Atributos \n",
    "Es la modificación con CSS de los elementos que tengan un atributos en especifico. Como por ejemplo el atributo \"alt\" en el elemento de img\n",
    "\n",
    "input [type=\"radio\"] {\n",
    "\t\tmargin: 20 px;\n",
    "}\n",
    "Todos los elementos con este atributo y valor se cambiarán.\n",
    "\n",
    "a[href=\"#\"]{\n",
    "\tcolor: green;\n",
    "\ttext-decoration: none (quita el subrayado del hipervinculo )\n",
    "}"
   ]
  },
  {
   "cell_type": "markdown",
   "id": "943d6a83",
   "metadata": {},
   "source": [
    "### Unidades Absolutas y Relativas. \n",
    "absoluta: px \n",
    "relativas: vw y em \n",
    "vw: depende del tamaño de la pantalla - pag web responsivas.\n",
    "em: depende del tamaño de contenedor, tamaño de la letra\n",
    "\n"
   ]
  },
  {
   "cell_type": "markdown",
   "id": "e9a07eee",
   "metadata": {},
   "source": [
    "### Priorización de estilos \n",
    "La última clase que se escriba en la hoja de CSS es la que tiene prioridad si en dado caso hay conflictos en dos clases. \n",
    "\n",
    "Los selectores de clase tienen mas prioridad que un elemento más general. El ID tiene mas prioridad que la clase.\n",
    "\n",
    "> Estilo en linea (html -  style>) > ID > CLASE > GENERAL  \n",
    "\n",
    "Con la palabra \"!important\" después del valor en css, se prioriza ante todos los demás:\n"
   ]
  },
  {
   "cell_type": "code",
   "execution_count": null,
   "id": "f45a53ec",
   "metadata": {
    "vscode": {
     "languageId": "html"
    }
   },
   "outputs": [],
   "source": [
    ".texto-azul {\n",
    "color:blue !important;\n",
    "}\n",
    "#titulo {\n",
    "color:negro;\n",
    "}"
   ]
  },
  {
   "cell_type": "markdown",
   "id": "b9e96a2a",
   "metadata": {},
   "source": [
    "### Colores dexadecimal \n",
    "\n",
    "RGB - RGBA"
   ]
  }
 ],
 "metadata": {
  "language_info": {
   "name": "python"
  }
 },
 "nbformat": 4,
 "nbformat_minor": 5
}
