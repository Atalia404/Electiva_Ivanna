{
 "cells": [
  {
   "cell_type": "markdown",
   "id": "4f3b6e4a",
   "metadata": {},
   "source": [
    "### CRUD \n",
    "Modificar la data de una BD\n",
    "\n",
    "C - Create (Crear): Esta operación se refiere a la capacidad de añadir nueva información a un sistema o base de datos.\n",
    "\n",
    "Ejemplos:\n",
    "* Crear una nueva cuenta de usuario.\n",
    "* Agregar un nuevo producto a un catálogo en línea.\n",
    "* Escribir un nuevo comentario en un blog.\n",
    "> En términos técnicos (con Express.js y bases de datos): Esto se suele hacer con una petición HTTP POST y en la base de datos se traduce en una instrucción INSERT.\n",
    "\n",
    "R - Read (Leer): Esta operación permite recuperar o consultar información existente del sistema o base de datos.\n",
    "\n",
    "Ejemplos:\n",
    "* Mostrar la lista de todos los usuarios registrados.\n",
    "* Ver los detalles de un producto específico.\n",
    "* Leer todos los comentarios de una publicación de blog.\n",
    "> En términos técnicos: Esto se hace con una petición HTTP GET y en la base de datos se traduce en una instrucción SELECT.\n",
    "\n",
    "U - Update (Actualizar): Esta operación se refiere a la capacidad de modificar información existente en el sistema o base de datos.\n",
    "\n",
    "Ejemplos:\n",
    "* Cambiar la contraseña o el correo electrónico de un usuario.\n",
    "* Modificar el precio o la descripción de un producto.\n",
    "* Editar un comentario ya publicado.\n",
    "> En términos técnicos: Esto se hace con peticiones HTTP PUT (para reemplazar completamente un recurso) o PATCH (para aplicar cambios parciales) y en la base de datos se traduce en una instrucción UPDATE.\n",
    "\n",
    "D - Delete (Eliminar): Esta operación permite borrar información del sistema o base de datos.\n",
    "\n",
    "Ejemplos:\n",
    "* Eliminar la cuenta de un usuario.\n",
    "* Remover un producto que ya no se vende.\n",
    "* Borrar un comentario ofensivo.\n",
    "> En términos técnicos: Esto se hace con una petición HTTP DELETE y en la base de datos se traduce en una instrucción DELETE."
   ]
  },
  {
   "cell_type": "markdown",
   "id": "1e2dfce7",
   "metadata": {},
   "source": [
    "### ¿Por qué el CRUD es tan importante?\n",
    "\n",
    "Porque estas cuatro operaciones son la base de casi cualquier aplicación que maneje datos. Piensa en cualquier aplicación que uses a diario (redes sociales, tiendas online, aplicaciones de gestión de tareas): todas, en su núcleo, están realizando operaciones CRUD constantemente.\n",
    "\n",
    "Cuando publicas una foto en Instagram, estás haciendo un Create. Cuando ves las fotos de tus amigos, estás haciendo un Read. Si editas la descripción de tu foto, estás haciendo un Update. Y si decides borrarla, estás haciendo un Delete.\n",
    "\n",
    "### Relación con Express.js:\n",
    "\n",
    "Express.js es la herramienta perfecta para construir los \"endpoints\" (las rutas o direcciones URL) en tu servidor que se encargan de manejar estas operaciones CRUD. Por ejemplo:\n",
    "- Una ruta POST /usuarios podría ser para crear un nuevo usuario.\n",
    "- Una ruta GET /usuarios podría ser para leer todos los usuarios.\n",
    "- Una ruta GET /usuarios/:id podría ser para leer un usuario específico por su ID.\n",
    "- Una ruta PUT /usuarios/:id o PATCH /usuarios/:id podría ser para actualizar un usuario - específico.\n",
    "- Una ruta DELETE /usuarios/:id podría ser para eliminar un usuario específico.\n",
    "\n",
    "> En resumen, el CRUD es el esqueleto funcional de cómo interactuamos con los datos en una aplicación, y frameworks como Express.js te ayudan a implementar estas funciones de manera eficiente en el lado del servidor."
   ]
  }
 ],
 "metadata": {
  "language_info": {
   "name": "python"
  }
 },
 "nbformat": 4,
 "nbformat_minor": 5
}
