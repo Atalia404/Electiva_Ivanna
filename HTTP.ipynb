{
 "cells": [
  {
   "cell_type": "markdown",
   "id": "64b5e52a",
   "metadata": {},
   "source": [
    "# HTTP \n",
    "Protocolo de transferencia de hipertexto \n",
    "Conjunto de reglas que un cliente y un servidor se entiendan. \n",
    "- Request (Solicitud)\t\t\t\t\t\t\t\n",
    "Cuando se consume una API se trabaja con este protocolo para saber si esta funcionando correctamente.\n",
    "- Response (Respuesta)\t\t\t\t\n",
    "El servidor recibe la solicitud, busca y envia la respuesta.\n",
    "- Visualización \t\t\t\t\t\n",
    "Se recibe la respuesta y la muestra en la pantalla.\n",
    "CLIENTE > SERVIDOR \n",
    "## Clases de respuesta \n",
    "- Informativos (1 x x)\t\t\t\t\t\n",
    "El servidor recibio la solicitud y la está procesando. \n",
    "- Exitosas (2 x x)\n",
    "- Redirecciones (3 x x)\n",
    "- Errores del cliente (4 x x)\n",
    "Cuando el cliente realiza algo que hace que no se procese \n",
    "- Errores del servidor (5 x x)\n",
    "\n",
    "## Herramientas \n",
    "H. para enviar información \n",
    "\n",
    "PATCH: Cambios parciales\n",
    "POST: Usado para crear un nuevo recurso\n",
    "GET: Leer un nuevo recurso al servidor \n",
    "PUT: Actualizar un recurso existente, completamente. \n",
    "DELETE: Borrar un recurso \n",
    "\n",
    "> USUARIO > REQUEST > API > HTTP > CRUD \n",
    "\n",
    "\n",
    "\n",
    "\n",
    "\n",
    "\n"
   ]
  }
 ],
 "metadata": {
  "language_info": {
   "name": "python"
  }
 },
 "nbformat": 4,
 "nbformat_minor": 5
}
