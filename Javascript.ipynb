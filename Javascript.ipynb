{
 "cells": [
  {
   "cell_type": "markdown",
   "id": "4ca844cc",
   "metadata": {},
   "source": [
    "# JavaScript\n",
    "### Sintaxis básica \n",
    "Son normas que debemos seguir para escribir código que JavaScript pueda entender y ejecutar. \n"
   ]
  },
  {
   "cell_type": "markdown",
   "id": "d6588e7f",
   "metadata": {},
   "source": [
    "### 1. Sentencias o declaraciones \n",
    "Son instrucciones que le dicen al navegador qué hacer.\n",
    "Como buena practica se debe terminar con punto y coma (;). \n",
    "Se recomienda para mejorar la legibilidad y evitar errores. "
   ]
  },
  {
   "cell_type": "code",
   "execution_count": null,
   "id": "6be9ef6b",
   "metadata": {
    "vscode": {
     "languageId": "javascript"
    }
   },
   "outputs": [],
   "source": [
    "console.log(\"¡Hola, mundo!\"); // Esto imprime \"¡Hola, mundo!\" en la consola.\n",
    "let edad = 30; // Esto declara una variable llamada 'edad' y le asigna el valor 30.\n",
    "console.log(edad); //  JavaScript, muestra el valor de edad en la consola.\n",
    "updateUserProfile(); // JavaScript, ejecuta la función llamada updateUserProfile."
   ]
  },
  {
   "cell_type": "markdown",
   "id": "738d0d6c",
   "metadata": {},
   "source": [
    "### 2. Comentarios \n",
    "Son líneas de código que JavaScript ignora por completo. Son super útiles para:\n",
    "- Explicar lo que hace tu código.\n",
    "- Dejar notas para ti o para otros programadores.\n",
    "- Desactivar temporalmente una parte del código sin borrarla."
   ]
  },
  {
   "cell_type": "code",
   "execution_count": null,
   "id": "96bd8e9f",
   "metadata": {
    "vscode": {
     "languageId": "javascript"
    }
   },
   "outputs": [],
   "source": [
    "// Esto es un comentario de una línea\n",
    "/*\n",
    "  Esto es un comentario\n",
    "  de varias líneas\n",
    "*/\n",
    "let nombre = \"Ana\"; // Aquí declaro la variable nombre"
   ]
  },
  {
   "cell_type": "markdown",
   "id": "8a6a94b5",
   "metadata": {},
   "source": [
    "### 3. Variables\n",
    "Las variables son como cajas o contenedores donde podemos guardar información. \n",
    "Esta información puede cambiar (de ahí el nombre \"variable\").\n",
    "Para crear una variable, utilizamos palabras clave como let, const, o la más antigua var.\n",
    "\n",
    "- let: Para variables cuyo valor puede cambiar en el futuro\n",
    "- const: Para variables cuyo valor no va a cambiar una vez que se le asigna. Si intentas cambiar su valor, JavaScript te dará un error.\n",
    "    \n",
    "Reglas para nombrar variables:\n",
    "- Pueden contener letras, números, guiones bajos (_) y signos de dólar ($).\n",
    "- No pueden empezar con un número.\n",
    "- No pueden ser palabras reservadas de JavaScript (como function, if, for, let, const, etc.).\n",
    "- Es una convención usar \"camelCase\" para nombrarlas \n",
    "(la primera palabra en minúscula, y las siguientes palabras empiezan con mayúscula, sin espacios).          \n",
    "Ej: miPrimeraVariable, numeroDeAlumnos.\n"
   ]
  },
  {
   "cell_type": "code",
   "execution_count": null,
   "id": "7603261f",
   "metadata": {
    "vscode": {
     "languageId": "javascript"
    }
   },
   "outputs": [],
   "source": [
    "//let\n",
    "let cantidad = 5;\n",
    "cantidad = 10; // Ahora cantidad vale 10\n",
    "console.log(cantidad); // Imprime 10\n",
    "// const\n",
    "const PI = 3.14159;\n",
    "PI = 3.14; // ¡Esto daría un error!\n",
    "const nombreUsuario = \"Carlos\";"
   ]
  },
  {
   "cell_type": "markdown",
   "id": "a3b7cb5c",
   "metadata": {},
   "source": [
    "### 4. Tipos de Datos\n",
    "- String (Cadenas de texto): Texto. Se escriben entre comillas simples (' ') o dobles (\" \").\n",
    "- Number (Números): Números enteros o decimales.\n",
    "- Boolean (Boleano): Representa true (verdadero) o false (falso). \n",
    "- Array (Arreglos/Listas): Son colecciones ordenadas de elementos. Se definen con corchetes [].\n",
    "- Object (Objetos): Son colecciones de propiedades, donde cada propiedad tiene un nombre (clave) y un valor. Se definen con llaves {}.\n",
    "- Null: \n",
    "- Undefined: Valor por defecto al no colocarle un valor a una variable.  "
   ]
  },
  {
   "cell_type": "code",
   "execution_count": null,
   "id": "52e461e2",
   "metadata": {
    "vscode": {
     "languageId": "javascript"
    }
   },
   "outputs": [],
   "source": [
    "//String\n",
    "let saludo = \"Hola a todos\";\n",
    "//Number\n",
    "let edad = 25;\n",
    "let precioProducto = 19.99;\n",
    "//Boolean\n",
    "let esVerdadero = true;\n",
    "let esFalso = false;\n",
    "//Array\n",
    "let frutas = [\"manzana\", \"banana\", \"naranja\"];\n",
    "//Object\n",
    "let persona = {\n",
    "  nombre: \"Juan\",\n",
    "  edad: 30,\n",
    "  ciudad: \"Madrid\"\n",
    "};"
   ]
  },
  {
   "cell_type": "markdown",
   "id": "a13747f6",
   "metadata": {},
   "source": [
    "### 4. Operadores           \n",
    "- Operadores aritméticos            \n",
    "Para operaciones matemáticas (+, -, *, /, %, etc.)."
   ]
  },
  {
   "cell_type": "code",
   "execution_count": null,
   "id": "2d3e9d69",
   "metadata": {
    "vscode": {
     "languageId": "javascript"
    }
   },
   "outputs": [],
   "source": [
    "let suma = 5 + 3; // 8\n",
    "let resta = 10 - 4; // 6\n",
    "let producto = 2 * 6; // 12\n",
    "let division = 15 / 3; // 5\n",
    "let resto = 10 % 3; // 1 (el resto de la división)"
   ]
  },
  {
   "cell_type": "markdown",
   "id": "21c56348",
   "metadata": {},
   "source": [
    "- Operadores de asignación                  \n",
    "Para asignar valores (=, +=, -=, etc.)."
   ]
  },
  {
   "cell_type": "code",
   "execution_count": null,
   "id": "9b10b2f3",
   "metadata": {
    "vscode": {
     "languageId": "javascript"
    }
   },
   "outputs": [],
   "source": [
    "let x = 10;\n",
    "x += 5; // Es lo mismo que x = x + 5; Ahora x es 15"
   ]
  },
  {
   "cell_type": "markdown",
   "id": "81b900f5",
   "metadata": {},
   "source": [
    "- Operaciones de comparación                \n",
    "Para comparar valores (devuelven true o false).             \n",
    ">   - == (igualdad de valor, no de tipo)      \n",
    ">   - === (igualdad estricta, valor y tipo)       \n",
    ">   - != (desigualdad de valor)       \n",
    ">   - !== (desigualdad estricta)      \n",
    ">   - \">\" (mayor que)   \n",
    ">   - < (menor que)     \n",
    ">   - \">=\" (mayor o igual que)   \n",
    ">   -  <= (menor o igual que)   "
   ]
  },
  {
   "cell_type": "code",
   "execution_count": null,
   "id": "1db4ebfe",
   "metadata": {
    "vscode": {
     "languageId": "javascript"
    }
   },
   "outputs": [],
   "source": [
    "console.log(5 == \"5\");   // true (compara solo valor)\n",
    "console.log(5 === \"5\");  // false (compara valor y tipo)\n",
    "console.log(10 > 5);     // true"
   ]
  },
  {
   "cell_type": "markdown",
   "id": "4adfcfca",
   "metadata": {},
   "source": [
    "- Operadores Lógicos                \n",
    "Para combinar condiciones (&& (AND), || (OR), ! (NOT))."
   ]
  },
  {
   "cell_type": "code",
   "execution_count": null,
   "id": "d7f9329b",
   "metadata": {
    "vscode": {
     "languageId": "javascript"
    }
   },
   "outputs": [],
   "source": [
    "let tieneCarro = true;\n",
    "let tieneLicencia = false;\n",
    "\n",
    "console.log(tieneCarro && tieneLicencia); // false (ambas deben ser true)\n",
    "console.log(tieneCarro || tieneLicencia); // true (una de las dos debe ser true)\n",
    "console.log(!tieneLicencia);             // true (niega el valor original)"
   ]
  },
  {
   "cell_type": "markdown",
   "id": "a9beb05c",
   "metadata": {},
   "source": [
    "### 6. Estructuras de control           \n",
    "Son fundamentales para que tu programa tome decisiones y repita acciones.\n",
    "\n",
    "> - if---else---else if (Condicionales):        \n",
    "Ejecutan bloques de código si una condición es verdadera o falsa."
   ]
  },
  {
   "cell_type": "code",
   "execution_count": null,
   "id": "c3e2f9bb",
   "metadata": {
    "vscode": {
     "languageId": "javascript"
    }
   },
   "outputs": [],
   "source": [
    "let temperatura = 28;\n",
    "\n",
    "if (temperatura > 25) {\n",
    "    console.log(\"¡Hace calor!\");\n",
    "} else {\n",
    "    console.log(\"El clima está agradable.\");\n",
    "}"
   ]
  },
  {
   "cell_type": "markdown",
   "id": "c4100e49",
   "metadata": {},
   "source": [
    "> - for y while (Bucles/Loops)      \n",
    "Repiten un bloque de código varias veces."
   ]
  },
  {
   "cell_type": "code",
   "execution_count": null,
   "id": "e0146f29",
   "metadata": {
    "vscode": {
     "languageId": "javascript"
    }
   },
   "outputs": [],
   "source": [
    "// Bucle for: se repite un número específico de veces\n",
    "for (let i = 0; i < 5; i++) {\n",
    "    console.log(\"Contando: \" + i);\n",
    "}\n",
    "// Salida:\n",
    "// Contando: 0\n",
    "// Contando: 1\n",
    "// Contando: 2\n",
    "// Contando: 3\n",
    "// Contando: 4\n",
    "\n",
    "// Bucle while: se repite mientras una condición sea verdadera\n",
    "let contador = 0;\n",
    "while (contador < 3) {\n",
    "    console.log(\"Iteración: \" + contador);\n",
    "    contador++; // ¡Importante para no caer en un bucle infinito!\n",
    "}\n",
    "// Salida:\n",
    "// Iteración: 0\n",
    "// Iteración: 1\n",
    "// Iteración: 2"
   ]
  },
  {
   "cell_type": "markdown",
   "id": "6092edd2",
   "metadata": {},
   "source": [
    "### 7. Funciones\n",
    " Son bloques de código que puedes definir una vez y usar muchas veces. Son como \"recetas\" que encapsulan una tarea específica"
   ]
  },
  {
   "cell_type": "code",
   "execution_count": null,
   "id": "b68b6607",
   "metadata": {
    "vscode": {
     "languageId": "javascript"
    }
   },
   "outputs": [],
   "source": [
    "function nombreDeLaFuncion(parametro1, parametro2) {\n",
    "    // Código que se ejecuta cuando se llama a la función\n",
    "    return resultado; // Opcional: la función puede devolver un valor\n",
    "}\n",
    "-  Ejemplo \n",
    "\n",
    "function saludar(nombre) {\n",
    "    console.log(\"Hola, \" + nombre + \"!\");\n",
    "}\n",
    "\n",
    "saludar(\"Pedro\"); // Llama a la función 'saludar' con el nombre \"Pedro\"\n",
    "saludar(\"Laura\"); // Llama a la función de nuevo con otro nombre\n"
   ]
  }
 ],
 "metadata": {
  "kernelspec": {
   "display_name": "Python 3",
   "language": "python",
   "name": "python3"
  },
  "language_info": {
   "codemirror_mode": {
    "name": "ipython",
    "version": 3
   },
   "file_extension": ".py",
   "mimetype": "text/x-python",
   "name": "python",
   "nbconvert_exporter": "python",
   "pygments_lexer": "ipython3",
   "version": "3.11.9"
  }
 },
 "nbformat": 4,
 "nbformat_minor": 5
}
